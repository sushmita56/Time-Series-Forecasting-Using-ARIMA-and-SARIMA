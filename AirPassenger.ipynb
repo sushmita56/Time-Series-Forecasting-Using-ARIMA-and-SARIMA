{
 "cells": [
  {
   "cell_type": "code",
   "execution_count": 1,
   "id": "b18a7942",
   "metadata": {},
   "outputs": [],
   "source": [
    "import numpy as np\n",
    "import pandas as pd\n",
    "import matplotlib.pyplot as plt\n",
    "import statsmodels.api as sms"
   ]
  },
  {
   "cell_type": "code",
   "execution_count": 2,
   "id": "a0bbbdac",
   "metadata": {},
   "outputs": [],
   "source": [
    "df = pd.read_csv('AirPassengers.csv')"
   ]
  },
  {
   "cell_type": "code",
   "execution_count": 3,
   "id": "1750ddd6",
   "metadata": {},
   "outputs": [
    {
     "data": {
      "text/html": [
       "<div>\n",
       "<style scoped>\n",
       "    .dataframe tbody tr th:only-of-type {\n",
       "        vertical-align: middle;\n",
       "    }\n",
       "\n",
       "    .dataframe tbody tr th {\n",
       "        vertical-align: top;\n",
       "    }\n",
       "\n",
       "    .dataframe thead th {\n",
       "        text-align: right;\n",
       "    }\n",
       "</style>\n",
       "<table border=\"1\" class=\"dataframe\">\n",
       "  <thead>\n",
       "    <tr style=\"text-align: right;\">\n",
       "      <th></th>\n",
       "      <th>Month</th>\n",
       "      <th>#Passengers</th>\n",
       "    </tr>\n",
       "  </thead>\n",
       "  <tbody>\n",
       "    <tr>\n",
       "      <th>0</th>\n",
       "      <td>1949-01</td>\n",
       "      <td>112</td>\n",
       "    </tr>\n",
       "    <tr>\n",
       "      <th>1</th>\n",
       "      <td>1949-02</td>\n",
       "      <td>118</td>\n",
       "    </tr>\n",
       "    <tr>\n",
       "      <th>2</th>\n",
       "      <td>1949-03</td>\n",
       "      <td>132</td>\n",
       "    </tr>\n",
       "    <tr>\n",
       "      <th>3</th>\n",
       "      <td>1949-04</td>\n",
       "      <td>129</td>\n",
       "    </tr>\n",
       "    <tr>\n",
       "      <th>4</th>\n",
       "      <td>1949-05</td>\n",
       "      <td>121</td>\n",
       "    </tr>\n",
       "  </tbody>\n",
       "</table>\n",
       "</div>"
      ],
      "text/plain": [
       "     Month  #Passengers\n",
       "0  1949-01          112\n",
       "1  1949-02          118\n",
       "2  1949-03          132\n",
       "3  1949-04          129\n",
       "4  1949-05          121"
      ]
     },
     "execution_count": 3,
     "metadata": {},
     "output_type": "execute_result"
    }
   ],
   "source": [
    "df.head()"
   ]
  },
  {
   "cell_type": "code",
   "execution_count": 4,
   "id": "b3885622",
   "metadata": {},
   "outputs": [
    {
     "data": {
      "text/plain": [
       "Month          0\n",
       "#Passengers    0\n",
       "dtype: int64"
      ]
     },
     "execution_count": 4,
     "metadata": {},
     "output_type": "execute_result"
    }
   ],
   "source": [
    "df.isna().sum()"
   ]
  },
  {
   "cell_type": "code",
   "execution_count": 5,
   "id": "f9f7ab2f",
   "metadata": {},
   "outputs": [
    {
     "name": "stdout",
     "output_type": "stream",
     "text": [
      "<class 'pandas.core.frame.DataFrame'>\n",
      "RangeIndex: 144 entries, 0 to 143\n",
      "Data columns (total 2 columns):\n",
      " #   Column       Non-Null Count  Dtype \n",
      "---  ------       --------------  ----- \n",
      " 0   Month        144 non-null    object\n",
      " 1   #Passengers  144 non-null    int64 \n",
      "dtypes: int64(1), object(1)\n",
      "memory usage: 2.4+ KB\n"
     ]
    }
   ],
   "source": [
    "df.info()"
   ]
  },
  {
   "cell_type": "code",
   "execution_count": 6,
   "id": "7ab71b09",
   "metadata": {},
   "outputs": [],
   "source": [
    "# changing the datatype of Month column to datetime\n",
    "df['Month'] = pd.to_datetime(df['Month'])"
   ]
  },
  {
   "cell_type": "code",
   "execution_count": 7,
   "id": "049ad3ae",
   "metadata": {},
   "outputs": [
    {
     "name": "stdout",
     "output_type": "stream",
     "text": [
      "<class 'pandas.core.frame.DataFrame'>\n",
      "RangeIndex: 144 entries, 0 to 143\n",
      "Data columns (total 2 columns):\n",
      " #   Column       Non-Null Count  Dtype         \n",
      "---  ------       --------------  -----         \n",
      " 0   Month        144 non-null    datetime64[ns]\n",
      " 1   #Passengers  144 non-null    int64         \n",
      "dtypes: datetime64[ns](1), int64(1)\n",
      "memory usage: 2.4 KB\n"
     ]
    }
   ],
   "source": [
    "df.info()"
   ]
  },
  {
   "cell_type": "code",
   "execution_count": 8,
   "id": "802ece4a",
   "metadata": {},
   "outputs": [],
   "source": [
    "# setting the Month column as an index\n",
    "df.set_index('Month', inplace=True)"
   ]
  },
  {
   "cell_type": "code",
   "execution_count": 9,
   "id": "35b18d43",
   "metadata": {},
   "outputs": [
    {
     "data": {
      "text/html": [
       "<div>\n",
       "<style scoped>\n",
       "    .dataframe tbody tr th:only-of-type {\n",
       "        vertical-align: middle;\n",
       "    }\n",
       "\n",
       "    .dataframe tbody tr th {\n",
       "        vertical-align: top;\n",
       "    }\n",
       "\n",
       "    .dataframe thead th {\n",
       "        text-align: right;\n",
       "    }\n",
       "</style>\n",
       "<table border=\"1\" class=\"dataframe\">\n",
       "  <thead>\n",
       "    <tr style=\"text-align: right;\">\n",
       "      <th></th>\n",
       "      <th>#Passengers</th>\n",
       "    </tr>\n",
       "    <tr>\n",
       "      <th>Month</th>\n",
       "      <th></th>\n",
       "    </tr>\n",
       "  </thead>\n",
       "  <tbody>\n",
       "    <tr>\n",
       "      <th>1949-01-01</th>\n",
       "      <td>112</td>\n",
       "    </tr>\n",
       "    <tr>\n",
       "      <th>1949-02-01</th>\n",
       "      <td>118</td>\n",
       "    </tr>\n",
       "    <tr>\n",
       "      <th>1949-03-01</th>\n",
       "      <td>132</td>\n",
       "    </tr>\n",
       "    <tr>\n",
       "      <th>1949-04-01</th>\n",
       "      <td>129</td>\n",
       "    </tr>\n",
       "    <tr>\n",
       "      <th>1949-05-01</th>\n",
       "      <td>121</td>\n",
       "    </tr>\n",
       "  </tbody>\n",
       "</table>\n",
       "</div>"
      ],
      "text/plain": [
       "            #Passengers\n",
       "Month                  \n",
       "1949-01-01          112\n",
       "1949-02-01          118\n",
       "1949-03-01          132\n",
       "1949-04-01          129\n",
       "1949-05-01          121"
      ]
     },
     "execution_count": 9,
     "metadata": {},
     "output_type": "execute_result"
    }
   ],
   "source": [
    "df.head()"
   ]
  },
  {
   "cell_type": "code",
   "execution_count": 10,
   "id": "cfb2ac4e",
   "metadata": {},
   "outputs": [
    {
     "data": {
      "text/plain": [
       "<AxesSubplot:xlabel='Month'>"
      ]
     },
     "execution_count": 10,
     "metadata": {},
     "output_type": "execute_result"
    },
    {
     "data": {
      "image/png": "[encoded data removed]",
      "text/plain": [
       "<Figure size 864x432 with 1 Axes>"
      ]
     },
     "metadata": {
      "needs_background": "light"
     },
     "output_type": "display_data"
    }
   ],
   "source": [
    "df.plot(figsize=(12,6))"
   ]
  },
  {
   "cell_type": "markdown",
   "id": "a7767b94",
   "metadata": {},
   "source": [
    "### As we can see on the above plot that our data is not stationary.\n",
    "\n",
    "### Let's check the stationarity of the data by statistical analysis too. For a data to be stationary, the statistical properties[mean, variance] of the data should not have huge variation over time. Overall behaviour of data should remain constant."
   ]
  },
  {
   "cell_type": "code",
   "execution_count": 11,
   "id": "4eb58306",
   "metadata": {},
   "outputs": [],
   "source": [
    "# splitting the data into two halves\n",
    "data = df.values\n",
    "split = len(data) / 2\n",
    "X1, X2 = data[0:int(split)], data[int(split):]"
   ]
  },
  {
   "cell_type": "code",
   "execution_count": 12,
   "id": "f2bce99e",
   "metadata": {},
   "outputs": [
    {
     "data": {
      "text/plain": [
       "((72, 1), (72, 1))"
      ]
     },
     "execution_count": 12,
     "metadata": {},
     "output_type": "execute_result"
    }
   ],
   "source": [
    "X1.shape, X2.shape"
   ]
  },
  {
   "cell_type": "code",
   "execution_count": 13,
   "id": "c12122bd",
   "metadata": {},
   "outputs": [
    {
     "name": "stdout",
     "output_type": "stream",
     "text": [
      "Mean of data X1: 182.90277777777777\n",
      "Mean of data X2: 377.69444444444446\n",
      "\n",
      "Variance of data X1: 2244.0877700617284\n",
      "Variance of data X2: 7367.962191358024\n"
     ]
    }
   ],
   "source": [
    "print('Mean of data X1:', X1.mean())\n",
    "print('Mean of data X2:', X2.mean())\n",
    "print(\"\\nVariance of data X1:\", X1.var())\n",
    "print(\"Variance of data X2:\", X2.var())"
   ]
  },
  {
   "cell_type": "markdown",
   "id": "d3ee42cc",
   "metadata": {},
   "source": [
    "So on observing the difference between above computed means and variances we can say that our data is not stationary as there is huge variation between mean and variance values over time.\n",
    "\n",
    "There is some exponential growth in our data from season to season. So let's use log transform to flatten the exponential change."
   ]
  },
  {
   "cell_type": "code",
   "execution_count": 14,
   "id": "356f5f08",
   "metadata": {},
   "outputs": [],
   "source": [
    "log_data = np.log(df)"
   ]
  },
  {
   "cell_type": "code",
   "execution_count": 15,
   "id": "eb18b2a1",
   "metadata": {},
   "outputs": [
    {
     "data": {
      "text/plain": [
       "<AxesSubplot:xlabel='Month'>"
      ]
     },
     "execution_count": 15,
     "metadata": {},
     "output_type": "execute_result"
    },
    {
     "data": {
      "image/png": "[encoded data removed]",
      "text/plain": [
       "<Figure size 864x432 with 1 Axes>"
      ]
     },
     "metadata": {
      "needs_background": "light"
     },
     "output_type": "display_data"
    }
   ],
   "source": [
    "log_data.plot(figsize=(12,6))"
   ]
  },
  {
   "cell_type": "code",
   "execution_count": 16,
   "id": "cd8f9a46",
   "metadata": {},
   "outputs": [
    {
     "name": "stdout",
     "output_type": "stream",
     "text": [
      "Mean of data X1: 5.17514614000377\n",
      "Mean of data X2: 5.909205777059973\n",
      "\n",
      "Variance of data X1: 0.06837486074542806\n",
      "Variance of data X2: 0.04926419375638024\n"
     ]
    }
   ],
   "source": [
    "# Again splitting the log transformed data into two halves and calculating the mean and variance\n",
    "data = log_data .values\n",
    "split = len(data) / 2\n",
    "X1, X2 = data[0:int(split)], data[int(split):]\n",
    "\n",
    "print('Mean of data X1:', X1.mean())\n",
    "print('Mean of data X2:', X2.mean())\n",
    "print(\"\\nVariance of data X1:\", X1.var())\n",
    "print(\"Variance of data X2:\", X2.var())"
   ]
  },
  {
   "cell_type": "markdown",
   "id": "ea758ec5",
   "metadata": {},
   "source": [
    "### Though the variation between mean&mean and variance&variance is too small, we can't just say that our data is stationary because the plot is clearly showing some seasonality in our data. \n",
    "\n",
    "### So from this observation we can say that this is not always a correct way to check whether the data is stationary or not. Now lets go with some statistical test to check the stationarity of the data."
   ]
  },
  {
   "cell_type": "code",
   "execution_count": 17,
   "id": "f24112f7",
   "metadata": {},
   "outputs": [],
   "source": [
    "from statsmodels.tsa.stattools import adfuller"
   ]
  },
  {
   "cell_type": "code",
   "execution_count": 18,
   "id": "d7da123a",
   "metadata": {},
   "outputs": [],
   "source": [
    "def adf_test(data_series):\n",
    "    result = adfuller(data_series)\n",
    "    print(\"ADF statistics: {}\".format(result[0]))\n",
    "    print(\"p-value: {}\".format(result[1]))\n",
    "    if result[1] < 0.05:\n",
    "        print(\"\\nReject null hypothesis! Indicates that the data is stationary.\")\n",
    "    else:\n",
    "        print(\"\\nAccept null hypothesis! Indicates that the data is not stationary.\")"
   ]
  },
  {
   "cell_type": "code",
   "execution_count": 19,
   "id": "51518f07",
   "metadata": {},
   "outputs": [
    {
     "name": "stdout",
     "output_type": "stream",
     "text": [
      "ADF statistics: 0.8153688792060498\n",
      "p-value: 0.991880243437641\n",
      "\n",
      "Accept null hypothesis! Indicates that the data is not stationary.\n"
     ]
    }
   ],
   "source": [
    "adf_test(df['#Passengers'])"
   ]
  },
  {
   "cell_type": "markdown",
   "id": "5383b578",
   "metadata": {},
   "source": [
    "## ARIMA model cannot handle data with seasonal component so now to make the data stationary we use differencing technique. Seasonal differencing reduces or eliminates the trend and seasonality from data."
   ]
  },
  {
   "cell_type": "code",
   "execution_count": 20,
   "id": "ba9b0f08",
   "metadata": {},
   "outputs": [],
   "source": [
    "\n",
    "df['Passengers First Difference'] = df['#Passengers'] - df['#Passengers'].shift(1)"
   ]
  },
  {
   "cell_type": "code",
   "execution_count": 21,
   "id": "d5b01a39",
   "metadata": {},
   "outputs": [
    {
     "data": {
      "text/html": [
       "<div>\n",
       "<style scoped>\n",
       "    .dataframe tbody tr th:only-of-type {\n",
       "        vertical-align: middle;\n",
       "    }\n",
       "\n",
       "    .dataframe tbody tr th {\n",
       "        vertical-align: top;\n",
       "    }\n",
       "\n",
       "    .dataframe thead th {\n",
       "        text-align: right;\n",
       "    }\n",
       "</style>\n",
       "<table border=\"1\" class=\"dataframe\">\n",
       "  <thead>\n",
       "    <tr style=\"text-align: right;\">\n",
       "      <th></th>\n",
       "      <th>#Passengers</th>\n",
       "      <th>Passengers First Difference</th>\n",
       "    </tr>\n",
       "    <tr>\n",
       "      <th>Month</th>\n",
       "      <th></th>\n",
       "      <th></th>\n",
       "    </tr>\n",
       "  </thead>\n",
       "  <tbody>\n",
       "    <tr>\n",
       "      <th>1949-01-01</th>\n",
       "      <td>112</td>\n",
       "      <td>NaN</td>\n",
       "    </tr>\n",
       "    <tr>\n",
       "      <th>1949-02-01</th>\n",
       "      <td>118</td>\n",
       "      <td>6.0</td>\n",
       "    </tr>\n",
       "    <tr>\n",
       "      <th>1949-03-01</th>\n",
       "      <td>132</td>\n",
       "      <td>14.0</td>\n",
       "    </tr>\n",
       "    <tr>\n",
       "      <th>1949-04-01</th>\n",
       "      <td>129</td>\n",
       "      <td>-3.0</td>\n",
       "    </tr>\n",
       "    <tr>\n",
       "      <th>1949-05-01</th>\n",
       "      <td>121</td>\n",
       "      <td>-8.0</td>\n",
       "    </tr>\n",
       "  </tbody>\n",
       "</table>\n",
       "</div>"
      ],
      "text/plain": [
       "            #Passengers  Passengers First Difference\n",
       "Month                                               \n",
       "1949-01-01          112                          NaN\n",
       "1949-02-01          118                          6.0\n",
       "1949-03-01          132                         14.0\n",
       "1949-04-01          129                         -3.0\n",
       "1949-05-01          121                         -8.0"
      ]
     },
     "execution_count": 21,
     "metadata": {},
     "output_type": "execute_result"
    }
   ],
   "source": [
    "df.head()"
   ]
  },
  {
   "cell_type": "code",
   "execution_count": 22,
   "id": "9cdde85b",
   "metadata": {},
   "outputs": [
    {
     "name": "stdout",
     "output_type": "stream",
     "text": [
      "ADF statistics: -2.8292668241700047\n",
      "p-value: 0.05421329028382478\n",
      "\n",
      "Accept null hypothesis! Indicates that the data is not stationary.\n"
     ]
    }
   ],
   "source": [
    "adf_test(df['Passengers First Difference'].dropna())"
   ]
  },
  {
   "cell_type": "code",
   "execution_count": 23,
   "id": "f754b6ad",
   "metadata": {},
   "outputs": [],
   "source": [
    "# second differencing\n",
    "df['Passengers Second Difference'] = df['Passengers First Difference'] - df['Passengers First Difference'].shift(1)"
   ]
  },
  {
   "cell_type": "code",
   "execution_count": 24,
   "id": "7fea801f",
   "metadata": {},
   "outputs": [
    {
     "data": {
      "text/html": [
       "<div>\n",
       "<style scoped>\n",
       "    .dataframe tbody tr th:only-of-type {\n",
       "        vertical-align: middle;\n",
       "    }\n",
       "\n",
       "    .dataframe tbody tr th {\n",
       "        vertical-align: top;\n",
       "    }\n",
       "\n",
       "    .dataframe thead th {\n",
       "        text-align: right;\n",
       "    }\n",
       "</style>\n",
       "<table border=\"1\" class=\"dataframe\">\n",
       "  <thead>\n",
       "    <tr style=\"text-align: right;\">\n",
       "      <th></th>\n",
       "      <th>#Passengers</th>\n",
       "      <th>Passengers First Difference</th>\n",
       "      <th>Passengers Second Difference</th>\n",
       "    </tr>\n",
       "    <tr>\n",
       "      <th>Month</th>\n",
       "      <th></th>\n",
       "      <th></th>\n",
       "      <th></th>\n",
       "    </tr>\n",
       "  </thead>\n",
       "  <tbody>\n",
       "    <tr>\n",
       "      <th>1949-01-01</th>\n",
       "      <td>112</td>\n",
       "      <td>NaN</td>\n",
       "      <td>NaN</td>\n",
       "    </tr>\n",
       "    <tr>\n",
       "      <th>1949-02-01</th>\n",
       "      <td>118</td>\n",
       "      <td>6.0</td>\n",
       "      <td>NaN</td>\n",
       "    </tr>\n",
       "    <tr>\n",
       "      <th>1949-03-01</th>\n",
       "      <td>132</td>\n",
       "      <td>14.0</td>\n",
       "      <td>8.0</td>\n",
       "    </tr>\n",
       "    <tr>\n",
       "      <th>1949-04-01</th>\n",
       "      <td>129</td>\n",
       "      <td>-3.0</td>\n",
       "      <td>-17.0</td>\n",
       "    </tr>\n",
       "    <tr>\n",
       "      <th>1949-05-01</th>\n",
       "      <td>121</td>\n",
       "      <td>-8.0</td>\n",
       "      <td>-5.0</td>\n",
       "    </tr>\n",
       "  </tbody>\n",
       "</table>\n",
       "</div>"
      ],
      "text/plain": [
       "            #Passengers  Passengers First Difference  \\\n",
       "Month                                                  \n",
       "1949-01-01          112                          NaN   \n",
       "1949-02-01          118                          6.0   \n",
       "1949-03-01          132                         14.0   \n",
       "1949-04-01          129                         -3.0   \n",
       "1949-05-01          121                         -8.0   \n",
       "\n",
       "            Passengers Second Difference  \n",
       "Month                                     \n",
       "1949-01-01                           NaN  \n",
       "1949-02-01                           NaN  \n",
       "1949-03-01                           8.0  \n",
       "1949-04-01                         -17.0  \n",
       "1949-05-01                          -5.0  "
      ]
     },
     "execution_count": 24,
     "metadata": {},
     "output_type": "execute_result"
    }
   ],
   "source": [
    "df.head()"
   ]
  },
  {
   "cell_type": "code",
   "execution_count": 25,
   "id": "8f489c9e",
   "metadata": {},
   "outputs": [
    {
     "name": "stdout",
     "output_type": "stream",
     "text": [
      "ADF statistics: -16.384231542468513\n",
      "p-value: 2.7328918500142026e-29\n",
      "\n",
      "Reject null hypothesis! Indicates that the data is stationary.\n"
     ]
    }
   ],
   "source": [
    "adf_test(df['Passengers Second Difference'].dropna())"
   ]
  },
  {
   "cell_type": "code",
   "execution_count": 26,
   "id": "39b8b6a7",
   "metadata": {},
   "outputs": [],
   "source": [
    "# Seasonal(12 months) differencing\n",
    "df['Passengers 12 Difference'] = df['#Passengers'] - df['#Passengers'].shift(12)"
   ]
  },
  {
   "cell_type": "code",
   "execution_count": 27,
   "id": "3369b0e8",
   "metadata": {},
   "outputs": [
    {
     "data": {
      "text/html": [
       "<div>\n",
       "<style scoped>\n",
       "    .dataframe tbody tr th:only-of-type {\n",
       "        vertical-align: middle;\n",
       "    }\n",
       "\n",
       "    .dataframe tbody tr th {\n",
       "        vertical-align: top;\n",
       "    }\n",
       "\n",
       "    .dataframe thead th {\n",
       "        text-align: right;\n",
       "    }\n",
       "</style>\n",
       "<table border=\"1\" class=\"dataframe\">\n",
       "  <thead>\n",
       "    <tr style=\"text-align: right;\">\n",
       "      <th></th>\n",
       "      <th>#Passengers</th>\n",
       "      <th>Passengers First Difference</th>\n",
       "      <th>Passengers Second Difference</th>\n",
       "      <th>Passengers 12 Difference</th>\n",
       "    </tr>\n",
       "    <tr>\n",
       "      <th>Month</th>\n",
       "      <th></th>\n",
       "      <th></th>\n",
       "      <th></th>\n",
       "      <th></th>\n",
       "    </tr>\n",
       "  </thead>\n",
       "  <tbody>\n",
       "    <tr>\n",
       "      <th>1949-01-01</th>\n",
       "      <td>112</td>\n",
       "      <td>NaN</td>\n",
       "      <td>NaN</td>\n",
       "      <td>NaN</td>\n",
       "    </tr>\n",
       "    <tr>\n",
       "      <th>1949-02-01</th>\n",
       "      <td>118</td>\n",
       "      <td>6.0</td>\n",
       "      <td>NaN</td>\n",
       "      <td>NaN</td>\n",
       "    </tr>\n",
       "    <tr>\n",
       "      <th>1949-03-01</th>\n",
       "      <td>132</td>\n",
       "      <td>14.0</td>\n",
       "      <td>8.0</td>\n",
       "      <td>NaN</td>\n",
       "    </tr>\n",
       "    <tr>\n",
       "      <th>1949-04-01</th>\n",
       "      <td>129</td>\n",
       "      <td>-3.0</td>\n",
       "      <td>-17.0</td>\n",
       "      <td>NaN</td>\n",
       "    </tr>\n",
       "    <tr>\n",
       "      <th>1949-05-01</th>\n",
       "      <td>121</td>\n",
       "      <td>-8.0</td>\n",
       "      <td>-5.0</td>\n",
       "      <td>NaN</td>\n",
       "    </tr>\n",
       "  </tbody>\n",
       "</table>\n",
       "</div>"
      ],
      "text/plain": [
       "            #Passengers  Passengers First Difference  \\\n",
       "Month                                                  \n",
       "1949-01-01          112                          NaN   \n",
       "1949-02-01          118                          6.0   \n",
       "1949-03-01          132                         14.0   \n",
       "1949-04-01          129                         -3.0   \n",
       "1949-05-01          121                         -8.0   \n",
       "\n",
       "            Passengers Second Difference  Passengers 12 Difference  \n",
       "Month                                                               \n",
       "1949-01-01                           NaN                       NaN  \n",
       "1949-02-01                           NaN                       NaN  \n",
       "1949-03-01                           8.0                       NaN  \n",
       "1949-04-01                         -17.0                       NaN  \n",
       "1949-05-01                          -5.0                       NaN  "
      ]
     },
     "execution_count": 27,
     "metadata": {},
     "output_type": "execute_result"
    }
   ],
   "source": [
    "df.head()"
   ]
  },
  {
   "cell_type": "code",
   "execution_count": 28,
   "id": "6e96ac57",
   "metadata": {},
   "outputs": [
    {
     "name": "stdout",
     "output_type": "stream",
     "text": [
      "ADF statistics: -3.383020726492481\n",
      "p-value: 0.011551493085514952\n",
      "\n",
      "Reject null hypothesis! Indicates that the data is stationary.\n"
     ]
    }
   ],
   "source": [
    "adf_test(df['Passengers 12 Difference'].dropna())"
   ]
  },
  {
   "cell_type": "code",
   "execution_count": 28,
   "id": "cb262d6c",
   "metadata": {},
   "outputs": [],
   "source": [
    "from statsmodels.graphics.tsaplots import plot_acf, plot_pacf"
   ]
  },
  {
   "cell_type": "code",
   "execution_count": 30,
   "id": "3856b2bd",
   "metadata": {},
   "outputs": [
    {
     "data": {
      "image/png": "[encoded data removed]",
      "text/plain": [
       "<Figure size 432x288 with 1 Axes>"
      ]
     },
     "metadata": {
      "needs_background": "light"
     },
     "output_type": "display_data"
    }
   ],
   "source": [
    "acf = plot_acf(df['Passengers Second Difference'].dropna())"
   ]
  },
  {
   "cell_type": "markdown",
   "id": "eb7c1cee",
   "metadata": {},
   "source": [
    "With second differencing, we got q value 12"
   ]
  },
  {
   "cell_type": "code",
   "execution_count": 31,
   "id": "a1bfb1d7",
   "metadata": {},
   "outputs": [
    {
     "data": {
      "image/png": "[encoded data removed]",
      "text/plain": [
       "<Figure size 432x288 with 1 Axes>"
      ]
     },
     "metadata": {
      "needs_background": "light"
     },
     "output_type": "display_data"
    }
   ],
   "source": [
    "acf12 = plot_acf(df['Passengers 12 Difference'].dropna())"
   ]
  },
  {
   "cell_type": "markdown",
   "id": "f6536938",
   "metadata": {},
   "source": [
    "And with 12 differencing ACF plot we got q value 5"
   ]
  },
  {
   "cell_type": "code",
   "execution_count": 32,
   "id": "4174e717",
   "metadata": {},
   "outputs": [
    {
     "name": "stderr",
     "output_type": "stream",
     "text": [
      "/home/sushmita/anaconda3/envs/tfEnv/lib/python3.10/site-packages/statsmodels/graphics/tsaplots.py:348: FutureWarning: The default method 'yw' can produce PACF values outside of the [-1,1] interval. After 0.13, the default will change tounadjusted Yule-Walker ('ywm'). You can use this method now by setting method='ywm'.\n",
      "  warnings.warn(\n"
     ]
    },
    {
     "data": {
      "image/png": "[encoded data removed]",
      "text/plain": [
       "<Figure size 432x288 with 1 Axes>"
      ]
     },
     "metadata": {
      "needs_background": "light"
     },
     "output_type": "display_data"
    }
   ],
   "source": [
    "pacf = plot_pacf(df['Passengers Second Difference'].dropna())"
   ]
  },
  {
   "cell_type": "code",
   "execution_count": 33,
   "id": "fdd3994a",
   "metadata": {},
   "outputs": [
    {
     "data": {
      "image/png": "[encoded data removed]",
      "text/plain": [
       "<Figure size 432x288 with 1 Axes>"
      ]
     },
     "metadata": {
      "needs_background": "light"
     },
     "output_type": "display_data"
    }
   ],
   "source": [
    "pacf12 = plot_pacf(df['Passengers 12 Difference'].dropna())"
   ]
  },
  {
   "cell_type": "markdown",
   "id": "ac1d13e6",
   "metadata": {},
   "source": [
    "On observing the above plot with 12 order differencing, We can take p values either 2 or 10."
   ]
  },
  {
   "cell_type": "code",
   "execution_count": 35,
   "id": "4aa07abc",
   "metadata": {},
   "outputs": [
    {
     "data": {
      "text/html": [
       "<div>\n",
       "<style scoped>\n",
       "    .dataframe tbody tr th:only-of-type {\n",
       "        vertical-align: middle;\n",
       "    }\n",
       "\n",
       "    .dataframe tbody tr th {\n",
       "        vertical-align: top;\n",
       "    }\n",
       "\n",
       "    .dataframe thead th {\n",
       "        text-align: right;\n",
       "    }\n",
       "</style>\n",
       "<table border=\"1\" class=\"dataframe\">\n",
       "  <thead>\n",
       "    <tr style=\"text-align: right;\">\n",
       "      <th></th>\n",
       "      <th>#Passengers</th>\n",
       "      <th>Passengers First Difference</th>\n",
       "      <th>Passengers Second Difference</th>\n",
       "      <th>Passengers 12 Difference</th>\n",
       "    </tr>\n",
       "    <tr>\n",
       "      <th>Month</th>\n",
       "      <th></th>\n",
       "      <th></th>\n",
       "      <th></th>\n",
       "      <th></th>\n",
       "    </tr>\n",
       "  </thead>\n",
       "  <tbody>\n",
       "    <tr>\n",
       "      <th>1960-08-01</th>\n",
       "      <td>606</td>\n",
       "      <td>-16.0</td>\n",
       "      <td>-103.0</td>\n",
       "      <td>47.0</td>\n",
       "    </tr>\n",
       "    <tr>\n",
       "      <th>1960-09-01</th>\n",
       "      <td>508</td>\n",
       "      <td>-98.0</td>\n",
       "      <td>-82.0</td>\n",
       "      <td>45.0</td>\n",
       "    </tr>\n",
       "    <tr>\n",
       "      <th>1960-10-01</th>\n",
       "      <td>461</td>\n",
       "      <td>-47.0</td>\n",
       "      <td>51.0</td>\n",
       "      <td>54.0</td>\n",
       "    </tr>\n",
       "    <tr>\n",
       "      <th>1960-11-01</th>\n",
       "      <td>390</td>\n",
       "      <td>-71.0</td>\n",
       "      <td>-24.0</td>\n",
       "      <td>28.0</td>\n",
       "    </tr>\n",
       "    <tr>\n",
       "      <th>1960-12-01</th>\n",
       "      <td>432</td>\n",
       "      <td>42.0</td>\n",
       "      <td>113.0</td>\n",
       "      <td>27.0</td>\n",
       "    </tr>\n",
       "  </tbody>\n",
       "</table>\n",
       "</div>"
      ],
      "text/plain": [
       "            #Passengers  Passengers First Difference  \\\n",
       "Month                                                  \n",
       "1960-08-01          606                        -16.0   \n",
       "1960-09-01          508                        -98.0   \n",
       "1960-10-01          461                        -47.0   \n",
       "1960-11-01          390                        -71.0   \n",
       "1960-12-01          432                         42.0   \n",
       "\n",
       "            Passengers Second Difference  Passengers 12 Difference  \n",
       "Month                                                               \n",
       "1960-08-01                        -103.0                      47.0  \n",
       "1960-09-01                         -82.0                      45.0  \n",
       "1960-10-01                          51.0                      54.0  \n",
       "1960-11-01                         -24.0                      28.0  \n",
       "1960-12-01                         113.0                      27.0  "
      ]
     },
     "execution_count": 35,
     "metadata": {},
     "output_type": "execute_result"
    }
   ],
   "source": [
    "df.tail()"
   ]
  },
  {
   "cell_type": "code",
   "execution_count": 39,
   "id": "3ceddcdd",
   "metadata": {},
   "outputs": [],
   "source": [
    "# Creating train and test data\n",
    "from datetime import datetime, timedelta\n",
    "train_dataset_end = datetime(1955, 12, 1)\n",
    "test_dataset_end = datetime(1960, 12, 1)"
   ]
  },
  {
   "cell_type": "code",
   "execution_count": 41,
   "id": "005ab55f",
   "metadata": {},
   "outputs": [],
   "source": [
    "train_data =df[:train_dataset_end]\n",
    "test_data = df[train_dataset_end+timedelta(days=1):test_dataset_end]"
   ]
  },
  {
   "cell_type": "code",
   "execution_count": 44,
   "id": "b41de436",
   "metadata": {},
   "outputs": [
    {
     "data": {
      "text/plain": [
       "((84, 4), (60, 4))"
      ]
     },
     "execution_count": 44,
     "metadata": {},
     "output_type": "execute_result"
    }
   ],
   "source": [
    "train_data.shape, test_data.shape"
   ]
  },
  {
   "cell_type": "code",
   "execution_count": 55,
   "id": "4b46eb7e",
   "metadata": {
    "scrolled": true
   },
   "outputs": [
    {
     "data": {
      "text/html": [
       "<div>\n",
       "<style scoped>\n",
       "    .dataframe tbody tr th:only-of-type {\n",
       "        vertical-align: middle;\n",
       "    }\n",
       "\n",
       "    .dataframe tbody tr th {\n",
       "        vertical-align: top;\n",
       "    }\n",
       "\n",
       "    .dataframe thead th {\n",
       "        text-align: right;\n",
       "    }\n",
       "</style>\n",
       "<table border=\"1\" class=\"dataframe\">\n",
       "  <thead>\n",
       "    <tr style=\"text-align: right;\">\n",
       "      <th></th>\n",
       "      <th>#Passengers</th>\n",
       "      <th>Passengers First Difference</th>\n",
       "      <th>Passengers Second Difference</th>\n",
       "      <th>Passengers 12 Difference</th>\n",
       "    </tr>\n",
       "    <tr>\n",
       "      <th>Month</th>\n",
       "      <th></th>\n",
       "      <th></th>\n",
       "      <th></th>\n",
       "      <th></th>\n",
       "    </tr>\n",
       "  </thead>\n",
       "  <tbody>\n",
       "    <tr>\n",
       "      <th>1960-08-01</th>\n",
       "      <td>606</td>\n",
       "      <td>-16.0</td>\n",
       "      <td>-103.0</td>\n",
       "      <td>47.0</td>\n",
       "    </tr>\n",
       "    <tr>\n",
       "      <th>1960-09-01</th>\n",
       "      <td>508</td>\n",
       "      <td>-98.0</td>\n",
       "      <td>-82.0</td>\n",
       "      <td>45.0</td>\n",
       "    </tr>\n",
       "    <tr>\n",
       "      <th>1960-10-01</th>\n",
       "      <td>461</td>\n",
       "      <td>-47.0</td>\n",
       "      <td>51.0</td>\n",
       "      <td>54.0</td>\n",
       "    </tr>\n",
       "    <tr>\n",
       "      <th>1960-11-01</th>\n",
       "      <td>390</td>\n",
       "      <td>-71.0</td>\n",
       "      <td>-24.0</td>\n",
       "      <td>28.0</td>\n",
       "    </tr>\n",
       "    <tr>\n",
       "      <th>1960-12-01</th>\n",
       "      <td>432</td>\n",
       "      <td>42.0</td>\n",
       "      <td>113.0</td>\n",
       "      <td>27.0</td>\n",
       "    </tr>\n",
       "  </tbody>\n",
       "</table>\n",
       "</div>"
      ],
      "text/plain": [
       "            #Passengers  Passengers First Difference  \\\n",
       "Month                                                  \n",
       "1960-08-01          606                        -16.0   \n",
       "1960-09-01          508                        -98.0   \n",
       "1960-10-01          461                        -47.0   \n",
       "1960-11-01          390                        -71.0   \n",
       "1960-12-01          432                         42.0   \n",
       "\n",
       "            Passengers Second Difference  Passengers 12 Difference  \n",
       "Month                                                               \n",
       "1960-08-01                        -103.0                      47.0  \n",
       "1960-09-01                         -82.0                      45.0  \n",
       "1960-10-01                          51.0                      54.0  \n",
       "1960-11-01                         -24.0                      28.0  \n",
       "1960-12-01                         113.0                      27.0  "
      ]
     },
     "execution_count": 55,
     "metadata": {},
     "output_type": "execute_result"
    }
   ],
   "source": [
    "df.tail()"
   ]
  },
  {
   "cell_type": "code",
   "execution_count": 56,
   "id": "104333d2",
   "metadata": {},
   "outputs": [
    {
     "data": {
      "text/plain": [
       "(Timestamp('1956-01-01 00:00:00'), Timestamp('1960-12-01 00:00:00'))"
      ]
     },
     "execution_count": 56,
     "metadata": {},
     "output_type": "execute_result"
    }
   ],
   "source": [
    "test_data.index[0], test_data.index[-1]"
   ]
  },
  {
   "cell_type": "code",
   "execution_count": 57,
   "id": "dd41c670",
   "metadata": {},
   "outputs": [],
   "source": [
    "#date for which the prediction is to be made\n",
    "pred_start_date = test_data.index[0]\n",
    "pred_end_date = test_data.index[-1]"
   ]
  },
  {
   "cell_type": "code",
   "execution_count": 59,
   "id": "63dd1edd",
   "metadata": {},
   "outputs": [
    {
     "data": {
      "text/html": [
       "<div>\n",
       "<style scoped>\n",
       "    .dataframe tbody tr th:only-of-type {\n",
       "        vertical-align: middle;\n",
       "    }\n",
       "\n",
       "    .dataframe tbody tr th {\n",
       "        vertical-align: top;\n",
       "    }\n",
       "\n",
       "    .dataframe thead th {\n",
       "        text-align: right;\n",
       "    }\n",
       "</style>\n",
       "<table border=\"1\" class=\"dataframe\">\n",
       "  <thead>\n",
       "    <tr style=\"text-align: right;\">\n",
       "      <th></th>\n",
       "      <th>#Passengers</th>\n",
       "      <th>Passengers First Difference</th>\n",
       "      <th>Passengers Second Difference</th>\n",
       "      <th>Passengers 12 Difference</th>\n",
       "    </tr>\n",
       "    <tr>\n",
       "      <th>Month</th>\n",
       "      <th></th>\n",
       "      <th></th>\n",
       "      <th></th>\n",
       "      <th></th>\n",
       "    </tr>\n",
       "  </thead>\n",
       "  <tbody>\n",
       "    <tr>\n",
       "      <th>1956-01-01</th>\n",
       "      <td>284</td>\n",
       "      <td>6.0</td>\n",
       "      <td>-35.0</td>\n",
       "      <td>42.0</td>\n",
       "    </tr>\n",
       "    <tr>\n",
       "      <th>1956-02-01</th>\n",
       "      <td>277</td>\n",
       "      <td>-7.0</td>\n",
       "      <td>-13.0</td>\n",
       "      <td>44.0</td>\n",
       "    </tr>\n",
       "    <tr>\n",
       "      <th>1956-03-01</th>\n",
       "      <td>317</td>\n",
       "      <td>40.0</td>\n",
       "      <td>47.0</td>\n",
       "      <td>50.0</td>\n",
       "    </tr>\n",
       "    <tr>\n",
       "      <th>1956-04-01</th>\n",
       "      <td>313</td>\n",
       "      <td>-4.0</td>\n",
       "      <td>-44.0</td>\n",
       "      <td>44.0</td>\n",
       "    </tr>\n",
       "    <tr>\n",
       "      <th>1956-05-01</th>\n",
       "      <td>318</td>\n",
       "      <td>5.0</td>\n",
       "      <td>9.0</td>\n",
       "      <td>48.0</td>\n",
       "    </tr>\n",
       "    <tr>\n",
       "      <th>1956-06-01</th>\n",
       "      <td>374</td>\n",
       "      <td>56.0</td>\n",
       "      <td>51.0</td>\n",
       "      <td>59.0</td>\n",
       "    </tr>\n",
       "    <tr>\n",
       "      <th>1956-07-01</th>\n",
       "      <td>413</td>\n",
       "      <td>39.0</td>\n",
       "      <td>-17.0</td>\n",
       "      <td>49.0</td>\n",
       "    </tr>\n",
       "    <tr>\n",
       "      <th>1956-08-01</th>\n",
       "      <td>405</td>\n",
       "      <td>-8.0</td>\n",
       "      <td>-47.0</td>\n",
       "      <td>58.0</td>\n",
       "    </tr>\n",
       "    <tr>\n",
       "      <th>1956-09-01</th>\n",
       "      <td>355</td>\n",
       "      <td>-50.0</td>\n",
       "      <td>-42.0</td>\n",
       "      <td>43.0</td>\n",
       "    </tr>\n",
       "    <tr>\n",
       "      <th>1956-10-01</th>\n",
       "      <td>306</td>\n",
       "      <td>-49.0</td>\n",
       "      <td>1.0</td>\n",
       "      <td>32.0</td>\n",
       "    </tr>\n",
       "    <tr>\n",
       "      <th>1956-11-01</th>\n",
       "      <td>271</td>\n",
       "      <td>-35.0</td>\n",
       "      <td>14.0</td>\n",
       "      <td>34.0</td>\n",
       "    </tr>\n",
       "    <tr>\n",
       "      <th>1956-12-01</th>\n",
       "      <td>306</td>\n",
       "      <td>35.0</td>\n",
       "      <td>70.0</td>\n",
       "      <td>28.0</td>\n",
       "    </tr>\n",
       "    <tr>\n",
       "      <th>1957-01-01</th>\n",
       "      <td>315</td>\n",
       "      <td>9.0</td>\n",
       "      <td>-26.0</td>\n",
       "      <td>31.0</td>\n",
       "    </tr>\n",
       "    <tr>\n",
       "      <th>1957-02-01</th>\n",
       "      <td>301</td>\n",
       "      <td>-14.0</td>\n",
       "      <td>-23.0</td>\n",
       "      <td>24.0</td>\n",
       "    </tr>\n",
       "    <tr>\n",
       "      <th>1957-03-01</th>\n",
       "      <td>356</td>\n",
       "      <td>55.0</td>\n",
       "      <td>69.0</td>\n",
       "      <td>39.0</td>\n",
       "    </tr>\n",
       "    <tr>\n",
       "      <th>1957-04-01</th>\n",
       "      <td>348</td>\n",
       "      <td>-8.0</td>\n",
       "      <td>-63.0</td>\n",
       "      <td>35.0</td>\n",
       "    </tr>\n",
       "    <tr>\n",
       "      <th>1957-05-01</th>\n",
       "      <td>355</td>\n",
       "      <td>7.0</td>\n",
       "      <td>15.0</td>\n",
       "      <td>37.0</td>\n",
       "    </tr>\n",
       "    <tr>\n",
       "      <th>1957-06-01</th>\n",
       "      <td>422</td>\n",
       "      <td>67.0</td>\n",
       "      <td>60.0</td>\n",
       "      <td>48.0</td>\n",
       "    </tr>\n",
       "    <tr>\n",
       "      <th>1957-07-01</th>\n",
       "      <td>465</td>\n",
       "      <td>43.0</td>\n",
       "      <td>-24.0</td>\n",
       "      <td>52.0</td>\n",
       "    </tr>\n",
       "    <tr>\n",
       "      <th>1957-08-01</th>\n",
       "      <td>467</td>\n",
       "      <td>2.0</td>\n",
       "      <td>-41.0</td>\n",
       "      <td>62.0</td>\n",
       "    </tr>\n",
       "    <tr>\n",
       "      <th>1957-09-01</th>\n",
       "      <td>404</td>\n",
       "      <td>-63.0</td>\n",
       "      <td>-65.0</td>\n",
       "      <td>49.0</td>\n",
       "    </tr>\n",
       "    <tr>\n",
       "      <th>1957-10-01</th>\n",
       "      <td>347</td>\n",
       "      <td>-57.0</td>\n",
       "      <td>6.0</td>\n",
       "      <td>41.0</td>\n",
       "    </tr>\n",
       "    <tr>\n",
       "      <th>1957-11-01</th>\n",
       "      <td>305</td>\n",
       "      <td>-42.0</td>\n",
       "      <td>15.0</td>\n",
       "      <td>34.0</td>\n",
       "    </tr>\n",
       "    <tr>\n",
       "      <th>1957-12-01</th>\n",
       "      <td>336</td>\n",
       "      <td>31.0</td>\n",
       "      <td>73.0</td>\n",
       "      <td>30.0</td>\n",
       "    </tr>\n",
       "    <tr>\n",
       "      <th>1958-01-01</th>\n",
       "      <td>340</td>\n",
       "      <td>4.0</td>\n",
       "      <td>-27.0</td>\n",
       "      <td>25.0</td>\n",
       "    </tr>\n",
       "    <tr>\n",
       "      <th>1958-02-01</th>\n",
       "      <td>318</td>\n",
       "      <td>-22.0</td>\n",
       "      <td>-26.0</td>\n",
       "      <td>17.0</td>\n",
       "    </tr>\n",
       "    <tr>\n",
       "      <th>1958-03-01</th>\n",
       "      <td>362</td>\n",
       "      <td>44.0</td>\n",
       "      <td>66.0</td>\n",
       "      <td>6.0</td>\n",
       "    </tr>\n",
       "    <tr>\n",
       "      <th>1958-04-01</th>\n",
       "      <td>348</td>\n",
       "      <td>-14.0</td>\n",
       "      <td>-58.0</td>\n",
       "      <td>0.0</td>\n",
       "    </tr>\n",
       "    <tr>\n",
       "      <th>1958-05-01</th>\n",
       "      <td>363</td>\n",
       "      <td>15.0</td>\n",
       "      <td>29.0</td>\n",
       "      <td>8.0</td>\n",
       "    </tr>\n",
       "    <tr>\n",
       "      <th>1958-06-01</th>\n",
       "      <td>435</td>\n",
       "      <td>72.0</td>\n",
       "      <td>57.0</td>\n",
       "      <td>13.0</td>\n",
       "    </tr>\n",
       "    <tr>\n",
       "      <th>1958-07-01</th>\n",
       "      <td>491</td>\n",
       "      <td>56.0</td>\n",
       "      <td>-16.0</td>\n",
       "      <td>26.0</td>\n",
       "    </tr>\n",
       "    <tr>\n",
       "      <th>1958-08-01</th>\n",
       "      <td>505</td>\n",
       "      <td>14.0</td>\n",
       "      <td>-42.0</td>\n",
       "      <td>38.0</td>\n",
       "    </tr>\n",
       "    <tr>\n",
       "      <th>1958-09-01</th>\n",
       "      <td>404</td>\n",
       "      <td>-101.0</td>\n",
       "      <td>-115.0</td>\n",
       "      <td>0.0</td>\n",
       "    </tr>\n",
       "    <tr>\n",
       "      <th>1958-10-01</th>\n",
       "      <td>359</td>\n",
       "      <td>-45.0</td>\n",
       "      <td>56.0</td>\n",
       "      <td>12.0</td>\n",
       "    </tr>\n",
       "    <tr>\n",
       "      <th>1958-11-01</th>\n",
       "      <td>310</td>\n",
       "      <td>-49.0</td>\n",
       "      <td>-4.0</td>\n",
       "      <td>5.0</td>\n",
       "    </tr>\n",
       "    <tr>\n",
       "      <th>1958-12-01</th>\n",
       "      <td>337</td>\n",
       "      <td>27.0</td>\n",
       "      <td>76.0</td>\n",
       "      <td>1.0</td>\n",
       "    </tr>\n",
       "    <tr>\n",
       "      <th>1959-01-01</th>\n",
       "      <td>360</td>\n",
       "      <td>23.0</td>\n",
       "      <td>-4.0</td>\n",
       "      <td>20.0</td>\n",
       "    </tr>\n",
       "    <tr>\n",
       "      <th>1959-02-01</th>\n",
       "      <td>342</td>\n",
       "      <td>-18.0</td>\n",
       "      <td>-41.0</td>\n",
       "      <td>24.0</td>\n",
       "    </tr>\n",
       "    <tr>\n",
       "      <th>1959-03-01</th>\n",
       "      <td>406</td>\n",
       "      <td>64.0</td>\n",
       "      <td>82.0</td>\n",
       "      <td>44.0</td>\n",
       "    </tr>\n",
       "    <tr>\n",
       "      <th>1959-04-01</th>\n",
       "      <td>396</td>\n",
       "      <td>-10.0</td>\n",
       "      <td>-74.0</td>\n",
       "      <td>48.0</td>\n",
       "    </tr>\n",
       "    <tr>\n",
       "      <th>1959-05-01</th>\n",
       "      <td>420</td>\n",
       "      <td>24.0</td>\n",
       "      <td>34.0</td>\n",
       "      <td>57.0</td>\n",
       "    </tr>\n",
       "    <tr>\n",
       "      <th>1959-06-01</th>\n",
       "      <td>472</td>\n",
       "      <td>52.0</td>\n",
       "      <td>28.0</td>\n",
       "      <td>37.0</td>\n",
       "    </tr>\n",
       "    <tr>\n",
       "      <th>1959-07-01</th>\n",
       "      <td>548</td>\n",
       "      <td>76.0</td>\n",
       "      <td>24.0</td>\n",
       "      <td>57.0</td>\n",
       "    </tr>\n",
       "    <tr>\n",
       "      <th>1959-08-01</th>\n",
       "      <td>559</td>\n",
       "      <td>11.0</td>\n",
       "      <td>-65.0</td>\n",
       "      <td>54.0</td>\n",
       "    </tr>\n",
       "    <tr>\n",
       "      <th>1959-09-01</th>\n",
       "      <td>463</td>\n",
       "      <td>-96.0</td>\n",
       "      <td>-107.0</td>\n",
       "      <td>59.0</td>\n",
       "    </tr>\n",
       "    <tr>\n",
       "      <th>1959-10-01</th>\n",
       "      <td>407</td>\n",
       "      <td>-56.0</td>\n",
       "      <td>40.0</td>\n",
       "      <td>48.0</td>\n",
       "    </tr>\n",
       "    <tr>\n",
       "      <th>1959-11-01</th>\n",
       "      <td>362</td>\n",
       "      <td>-45.0</td>\n",
       "      <td>11.0</td>\n",
       "      <td>52.0</td>\n",
       "    </tr>\n",
       "    <tr>\n",
       "      <th>1959-12-01</th>\n",
       "      <td>405</td>\n",
       "      <td>43.0</td>\n",
       "      <td>88.0</td>\n",
       "      <td>68.0</td>\n",
       "    </tr>\n",
       "    <tr>\n",
       "      <th>1960-01-01</th>\n",
       "      <td>417</td>\n",
       "      <td>12.0</td>\n",
       "      <td>-31.0</td>\n",
       "      <td>57.0</td>\n",
       "    </tr>\n",
       "    <tr>\n",
       "      <th>1960-02-01</th>\n",
       "      <td>391</td>\n",
       "      <td>-26.0</td>\n",
       "      <td>-38.0</td>\n",
       "      <td>49.0</td>\n",
       "    </tr>\n",
       "    <tr>\n",
       "      <th>1960-03-01</th>\n",
       "      <td>419</td>\n",
       "      <td>28.0</td>\n",
       "      <td>54.0</td>\n",
       "      <td>13.0</td>\n",
       "    </tr>\n",
       "    <tr>\n",
       "      <th>1960-04-01</th>\n",
       "      <td>461</td>\n",
       "      <td>42.0</td>\n",
       "      <td>14.0</td>\n",
       "      <td>65.0</td>\n",
       "    </tr>\n",
       "    <tr>\n",
       "      <th>1960-05-01</th>\n",
       "      <td>472</td>\n",
       "      <td>11.0</td>\n",
       "      <td>-31.0</td>\n",
       "      <td>52.0</td>\n",
       "    </tr>\n",
       "    <tr>\n",
       "      <th>1960-06-01</th>\n",
       "      <td>535</td>\n",
       "      <td>63.0</td>\n",
       "      <td>52.0</td>\n",
       "      <td>63.0</td>\n",
       "    </tr>\n",
       "    <tr>\n",
       "      <th>1960-07-01</th>\n",
       "      <td>622</td>\n",
       "      <td>87.0</td>\n",
       "      <td>24.0</td>\n",
       "      <td>74.0</td>\n",
       "    </tr>\n",
       "    <tr>\n",
       "      <th>1960-08-01</th>\n",
       "      <td>606</td>\n",
       "      <td>-16.0</td>\n",
       "      <td>-103.0</td>\n",
       "      <td>47.0</td>\n",
       "    </tr>\n",
       "    <tr>\n",
       "      <th>1960-09-01</th>\n",
       "      <td>508</td>\n",
       "      <td>-98.0</td>\n",
       "      <td>-82.0</td>\n",
       "      <td>45.0</td>\n",
       "    </tr>\n",
       "    <tr>\n",
       "      <th>1960-10-01</th>\n",
       "      <td>461</td>\n",
       "      <td>-47.0</td>\n",
       "      <td>51.0</td>\n",
       "      <td>54.0</td>\n",
       "    </tr>\n",
       "    <tr>\n",
       "      <th>1960-11-01</th>\n",
       "      <td>390</td>\n",
       "      <td>-71.0</td>\n",
       "      <td>-24.0</td>\n",
       "      <td>28.0</td>\n",
       "    </tr>\n",
       "    <tr>\n",
       "      <th>1960-12-01</th>\n",
       "      <td>432</td>\n",
       "      <td>42.0</td>\n",
       "      <td>113.0</td>\n",
       "      <td>27.0</td>\n",
       "    </tr>\n",
       "  </tbody>\n",
       "</table>\n",
       "</div>"
      ],
      "text/plain": [
       "            #Passengers  Passengers First Difference  \\\n",
       "Month                                                  \n",
       "1956-01-01          284                          6.0   \n",
       "1956-02-01          277                         -7.0   \n",
       "1956-03-01          317                         40.0   \n",
       "1956-04-01          313                         -4.0   \n",
       "1956-05-01          318                          5.0   \n",
       "1956-06-01          374                         56.0   \n",
       "1956-07-01          413                         39.0   \n",
       "1956-08-01          405                         -8.0   \n",
       "1956-09-01          355                        -50.0   \n",
       "1956-10-01          306                        -49.0   \n",
       "1956-11-01          271                        -35.0   \n",
       "1956-12-01          306                         35.0   \n",
       "1957-01-01          315                          9.0   \n",
       "1957-02-01          301                        -14.0   \n",
       "1957-03-01          356                         55.0   \n",
       "1957-04-01          348                         -8.0   \n",
       "1957-05-01          355                          7.0   \n",
       "1957-06-01          422                         67.0   \n",
       "1957-07-01          465                         43.0   \n",
       "1957-08-01          467                          2.0   \n",
       "1957-09-01          404                        -63.0   \n",
       "1957-10-01          347                        -57.0   \n",
       "1957-11-01          305                        -42.0   \n",
       "1957-12-01          336                         31.0   \n",
       "1958-01-01          340                          4.0   \n",
       "1958-02-01          318                        -22.0   \n",
       "1958-03-01          362                         44.0   \n",
       "1958-04-01          348                        -14.0   \n",
       "1958-05-01          363                         15.0   \n",
       "1958-06-01          435                         72.0   \n",
       "1958-07-01          491                         56.0   \n",
       "1958-08-01          505                         14.0   \n",
       "1958-09-01          404                       -101.0   \n",
       "1958-10-01          359                        -45.0   \n",
       "1958-11-01          310                        -49.0   \n",
       "1958-12-01          337                         27.0   \n",
       "1959-01-01          360                         23.0   \n",
       "1959-02-01          342                        -18.0   \n",
       "1959-03-01          406                         64.0   \n",
       "1959-04-01          396                        -10.0   \n",
       "1959-05-01          420                         24.0   \n",
       "1959-06-01          472                         52.0   \n",
       "1959-07-01          548                         76.0   \n",
       "1959-08-01          559                         11.0   \n",
       "1959-09-01          463                        -96.0   \n",
       "1959-10-01          407                        -56.0   \n",
       "1959-11-01          362                        -45.0   \n",
       "1959-12-01          405                         43.0   \n",
       "1960-01-01          417                         12.0   \n",
       "1960-02-01          391                        -26.0   \n",
       "1960-03-01          419                         28.0   \n",
       "1960-04-01          461                         42.0   \n",
       "1960-05-01          472                         11.0   \n",
       "1960-06-01          535                         63.0   \n",
       "1960-07-01          622                         87.0   \n",
       "1960-08-01          606                        -16.0   \n",
       "1960-09-01          508                        -98.0   \n",
       "1960-10-01          461                        -47.0   \n",
       "1960-11-01          390                        -71.0   \n",
       "1960-12-01          432                         42.0   \n",
       "\n",
       "            Passengers Second Difference  Passengers 12 Difference  \n",
       "Month                                                               \n",
       "1956-01-01                         -35.0                      42.0  \n",
       "1956-02-01                         -13.0                      44.0  \n",
       "1956-03-01                          47.0                      50.0  \n",
       "1956-04-01                         -44.0                      44.0  \n",
       "1956-05-01                           9.0                      48.0  \n",
       "1956-06-01                          51.0                      59.0  \n",
       "1956-07-01                         -17.0                      49.0  \n",
       "1956-08-01                         -47.0                      58.0  \n",
       "1956-09-01                         -42.0                      43.0  \n",
       "1956-10-01                           1.0                      32.0  \n",
       "1956-11-01                          14.0                      34.0  \n",
       "1956-12-01                          70.0                      28.0  \n",
       "1957-01-01                         -26.0                      31.0  \n",
       "1957-02-01                         -23.0                      24.0  \n",
       "1957-03-01                          69.0                      39.0  \n",
       "1957-04-01                         -63.0                      35.0  \n",
       "1957-05-01                          15.0                      37.0  \n",
       "1957-06-01                          60.0                      48.0  \n",
       "1957-07-01                         -24.0                      52.0  \n",
       "1957-08-01                         -41.0                      62.0  \n",
       "1957-09-01                         -65.0                      49.0  \n",
       "1957-10-01                           6.0                      41.0  \n",
       "1957-11-01                          15.0                      34.0  \n",
       "1957-12-01                          73.0                      30.0  \n",
       "1958-01-01                         -27.0                      25.0  \n",
       "1958-02-01                         -26.0                      17.0  \n",
       "1958-03-01                          66.0                       6.0  \n",
       "1958-04-01                         -58.0                       0.0  \n",
       "1958-05-01                          29.0                       8.0  \n",
       "1958-06-01                          57.0                      13.0  \n",
       "1958-07-01                         -16.0                      26.0  \n",
       "1958-08-01                         -42.0                      38.0  \n",
       "1958-09-01                        -115.0                       0.0  \n",
       "1958-10-01                          56.0                      12.0  \n",
       "1958-11-01                          -4.0                       5.0  \n",
       "1958-12-01                          76.0                       1.0  \n",
       "1959-01-01                          -4.0                      20.0  \n",
       "1959-02-01                         -41.0                      24.0  \n",
       "1959-03-01                          82.0                      44.0  \n",
       "1959-04-01                         -74.0                      48.0  \n",
       "1959-05-01                          34.0                      57.0  \n",
       "1959-06-01                          28.0                      37.0  \n",
       "1959-07-01                          24.0                      57.0  \n",
       "1959-08-01                         -65.0                      54.0  \n",
       "1959-09-01                        -107.0                      59.0  \n",
       "1959-10-01                          40.0                      48.0  \n",
       "1959-11-01                          11.0                      52.0  \n",
       "1959-12-01                          88.0                      68.0  \n",
       "1960-01-01                         -31.0                      57.0  \n",
       "1960-02-01                         -38.0                      49.0  \n",
       "1960-03-01                          54.0                      13.0  \n",
       "1960-04-01                          14.0                      65.0  \n",
       "1960-05-01                         -31.0                      52.0  \n",
       "1960-06-01                          52.0                      63.0  \n",
       "1960-07-01                          24.0                      74.0  \n",
       "1960-08-01                        -103.0                      47.0  \n",
       "1960-09-01                         -82.0                      45.0  \n",
       "1960-10-01                          51.0                      54.0  \n",
       "1960-11-01                         -24.0                      28.0  \n",
       "1960-12-01                         113.0                      27.0  "
      ]
     },
     "execution_count": 59,
     "metadata": {},
     "output_type": "execute_result"
    }
   ],
   "source": [
    "test_data"
   ]
  },
  {
   "cell_type": "code",
   "execution_count": 64,
   "id": "44db373c",
   "metadata": {},
   "outputs": [
    {
     "name": "stderr",
     "output_type": "stream",
     "text": [
      "/home/sushmita/anaconda3/envs/tfEnv/lib/python3.10/site-packages/statsmodels/tsa/base/tsa_model.py:471: ValueWarning: No frequency information was provided, so inferred frequency MS will be used.\n",
      "  self._init_dates(dates, freq)\n",
      "/home/sushmita/anaconda3/envs/tfEnv/lib/python3.10/site-packages/statsmodels/tsa/base/tsa_model.py:471: ValueWarning: No frequency information was provided, so inferred frequency MS will be used.\n",
      "  self._init_dates(dates, freq)\n",
      "/home/sushmita/anaconda3/envs/tfEnv/lib/python3.10/site-packages/statsmodels/tsa/base/tsa_model.py:471: ValueWarning: No frequency information was provided, so inferred frequency MS will be used.\n",
      "  self._init_dates(dates, freq)\n"
     ]
    }
   ],
   "source": [
    "# taking differencing order = 2\n",
    "arima_model = sms.tsa.ARIMA(train_data['#Passengers'],order=(10, 2, 0))"
   ]
  },
  {
   "cell_type": "code",
   "execution_count": 65,
   "id": "f40f5550",
   "metadata": {},
   "outputs": [],
   "source": [
    "model = arima_model.fit()"
   ]
  },
  {
   "cell_type": "code",
   "execution_count": 66,
   "id": "a4dc2081",
   "metadata": {},
   "outputs": [
    {
     "data": {
      "text/html": [
       "<table class=\"simpletable\">\n",
       "<caption>SARIMAX Results</caption>\n",
       "<tr>\n",
       "  <th>Dep. Variable:</th>      <td>#Passengers</td>   <th>  No. Observations:  </th>    <td>84</td>   \n",
       "</tr>\n",
       "<tr>\n",
       "  <th>Model:</th>            <td>ARIMA(10, 2, 0)</td> <th>  Log Likelihood     </th> <td>-357.239</td>\n",
       "</tr>\n",
       "<tr>\n",
       "  <th>Date:</th>            <td>Sat, 13 Aug 2022</td> <th>  AIC                </th>  <td>736.477</td>\n",
       "</tr>\n",
       "<tr>\n",
       "  <th>Time:</th>                <td>16:30:55</td>     <th>  BIC                </th>  <td>762.951</td>\n",
       "</tr>\n",
       "<tr>\n",
       "  <th>Sample:</th>             <td>01-01-1949</td>    <th>  HQIC               </th>  <td>747.106</td>\n",
       "</tr>\n",
       "<tr>\n",
       "  <th></th>                   <td>- 12-01-1955</td>   <th>                     </th>     <td> </td>   \n",
       "</tr>\n",
       "<tr>\n",
       "  <th>Covariance Type:</th>        <td>opg</td>       <th>                     </th>     <td> </td>   \n",
       "</tr>\n",
       "</table>\n",
       "<table class=\"simpletable\">\n",
       "<tr>\n",
       "     <td></td>       <th>coef</th>     <th>std err</th>      <th>z</th>      <th>P>|z|</th>  <th>[0.025</th>    <th>0.975]</th>  \n",
       "</tr>\n",
       "<tr>\n",
       "  <th>ar.L1</th>  <td>   -0.5166</td> <td>    0.121</td> <td>   -4.262</td> <td> 0.000</td> <td>   -0.754</td> <td>   -0.279</td>\n",
       "</tr>\n",
       "<tr>\n",
       "  <th>ar.L2</th>  <td>   -0.7204</td> <td>    0.121</td> <td>   -5.940</td> <td> 0.000</td> <td>   -0.958</td> <td>   -0.483</td>\n",
       "</tr>\n",
       "<tr>\n",
       "  <th>ar.L3</th>  <td>   -0.4857</td> <td>    0.125</td> <td>   -3.876</td> <td> 0.000</td> <td>   -0.731</td> <td>   -0.240</td>\n",
       "</tr>\n",
       "<tr>\n",
       "  <th>ar.L4</th>  <td>   -0.7505</td> <td>    0.129</td> <td>   -5.819</td> <td> 0.000</td> <td>   -1.003</td> <td>   -0.498</td>\n",
       "</tr>\n",
       "<tr>\n",
       "  <th>ar.L5</th>  <td>   -0.5062</td> <td>    0.169</td> <td>   -2.991</td> <td> 0.003</td> <td>   -0.838</td> <td>   -0.175</td>\n",
       "</tr>\n",
       "<tr>\n",
       "  <th>ar.L6</th>  <td>   -0.5200</td> <td>    0.141</td> <td>   -3.683</td> <td> 0.000</td> <td>   -0.797</td> <td>   -0.243</td>\n",
       "</tr>\n",
       "<tr>\n",
       "  <th>ar.L7</th>  <td>   -0.3051</td> <td>    0.143</td> <td>   -2.127</td> <td> 0.033</td> <td>   -0.586</td> <td>   -0.024</td>\n",
       "</tr>\n",
       "<tr>\n",
       "  <th>ar.L8</th>  <td>   -0.5939</td> <td>    0.155</td> <td>   -3.833</td> <td> 0.000</td> <td>   -0.898</td> <td>   -0.290</td>\n",
       "</tr>\n",
       "<tr>\n",
       "  <th>ar.L9</th>  <td>   -0.2963</td> <td>    0.132</td> <td>   -2.241</td> <td> 0.025</td> <td>   -0.555</td> <td>   -0.037</td>\n",
       "</tr>\n",
       "<tr>\n",
       "  <th>ar.L10</th> <td>   -0.4825</td> <td>    0.110</td> <td>   -4.376</td> <td> 0.000</td> <td>   -0.699</td> <td>   -0.266</td>\n",
       "</tr>\n",
       "<tr>\n",
       "  <th>sigma2</th> <td>  336.0939</td> <td>   66.064</td> <td>    5.087</td> <td> 0.000</td> <td>  206.612</td> <td>  465.576</td>\n",
       "</tr>\n",
       "</table>\n",
       "<table class=\"simpletable\">\n",
       "<tr>\n",
       "  <th>Ljung-Box (L1) (Q):</th>     <td>10.86</td> <th>  Jarque-Bera (JB):  </th> <td>1.24</td>\n",
       "</tr>\n",
       "<tr>\n",
       "  <th>Prob(Q):</th>                <td>0.00</td>  <th>  Prob(JB):          </th> <td>0.54</td>\n",
       "</tr>\n",
       "<tr>\n",
       "  <th>Heteroskedasticity (H):</th> <td>2.85</td>  <th>  Skew:              </th> <td>0.24</td>\n",
       "</tr>\n",
       "<tr>\n",
       "  <th>Prob(H) (two-sided):</th>    <td>0.01</td>  <th>  Kurtosis:          </th> <td>2.64</td>\n",
       "</tr>\n",
       "</table><br/><br/>Warnings:<br/>[1] Covariance matrix calculated using the outer product of gradients (complex-step)."
      ],
      "text/plain": [
       "<class 'statsmodels.iolib.summary.Summary'>\n",
       "\"\"\"\n",
       "                               SARIMAX Results                                \n",
       "==============================================================================\n",
       "Dep. Variable:            #Passengers   No. Observations:                   84\n",
       "Model:                ARIMA(10, 2, 0)   Log Likelihood                -357.239\n",
       "Date:                Sat, 13 Aug 2022   AIC                            736.477\n",
       "Time:                        16:30:55   BIC                            762.951\n",
       "Sample:                    01-01-1949   HQIC                           747.106\n",
       "                         - 12-01-1955                                         \n",
       "Covariance Type:                  opg                                         \n",
       "==============================================================================\n",
       "                 coef    std err          z      P>|z|      [0.025      0.975]\n",
       "------------------------------------------------------------------------------\n",
       "ar.L1         -0.5166      0.121     -4.262      0.000      -0.754      -0.279\n",
       "ar.L2         -0.7204      0.121     -5.940      0.000      -0.958      -0.483\n",
       "ar.L3         -0.4857      0.125     -3.876      0.000      -0.731      -0.240\n",
       "ar.L4         -0.7505      0.129     -5.819      0.000      -1.003      -0.498\n",
       "ar.L5         -0.5062      0.169     -2.991      0.003      -0.838      -0.175\n",
       "ar.L6         -0.5200      0.141     -3.683      0.000      -0.797      -0.243\n",
       "ar.L7         -0.3051      0.143     -2.127      0.033      -0.586      -0.024\n",
       "ar.L8         -0.5939      0.155     -3.833      0.000      -0.898      -0.290\n",
       "ar.L9         -0.2963      0.132     -2.241      0.025      -0.555      -0.037\n",
       "ar.L10        -0.4825      0.110     -4.376      0.000      -0.699      -0.266\n",
       "sigma2       336.0939     66.064      5.087      0.000     206.612     465.576\n",
       "===================================================================================\n",
       "Ljung-Box (L1) (Q):                  10.86   Jarque-Bera (JB):                 1.24\n",
       "Prob(Q):                              0.00   Prob(JB):                         0.54\n",
       "Heteroskedasticity (H):               2.85   Skew:                             0.24\n",
       "Prob(H) (two-sided):                  0.01   Kurtosis:                         2.64\n",
       "===================================================================================\n",
       "\n",
       "Warnings:\n",
       "[1] Covariance matrix calculated using the outer product of gradients (complex-step).\n",
       "\"\"\""
      ]
     },
     "execution_count": 66,
     "metadata": {},
     "output_type": "execute_result"
    }
   ],
   "source": [
    "model.summary()"
   ]
  },
  {
   "cell_type": "code",
   "execution_count": 42,
   "id": "710150bc",
   "metadata": {},
   "outputs": [
    {
     "name": "stdout",
     "output_type": "stream",
     "text": [
      "1956-01-01 00:00:00\n",
      "1960-12-01 00:00:00\n"
     ]
    }
   ],
   "source": [
    "print(pred_start_date)\n",
    "print(pred_end_date)"
   ]
  },
  {
   "cell_type": "code",
   "execution_count": 71,
   "id": "8b81fdab",
   "metadata": {},
   "outputs": [],
   "source": [
    "pred = model.predict(start=pred_start_date, end=pred_end_date)"
   ]
  },
  {
   "cell_type": "code",
   "execution_count": 72,
   "id": "ef708fac",
   "metadata": {},
   "outputs": [],
   "source": [
    "# Calulating the difference between predicted value and the actual value and storing the computed differece in variable `residual`\n",
    "residuals = test_data['#Passengers'] - pred"
   ]
  },
  {
   "cell_type": "code",
   "execution_count": 73,
   "id": "212cadfc",
   "metadata": {},
   "outputs": [
    {
     "data": {
      "text/plain": [
       "Month\n",
       "1956-01-01    -16.183612\n",
       "1956-02-01    -32.478355\n",
       "1956-03-01      0.556985\n",
       "1956-04-01      5.172456\n",
       "1956-05-01     -0.544234\n",
       "1956-06-01     25.077917\n",
       "1956-07-01     46.979713\n",
       "1956-08-01     58.432466\n",
       "1956-09-01     22.879031\n",
       "1956-10-01     -1.734755\n",
       "1956-11-01    -40.623912\n",
       "1956-12-01    -33.828197\n",
       "1957-01-01    -34.840405\n",
       "1957-02-01    -55.098234\n",
       "1957-03-01      5.312171\n",
       "1957-04-01     -2.080465\n",
       "1957-05-01     -6.157694\n",
       "1957-06-01     40.783483\n",
       "1957-07-01     82.680626\n",
       "1957-08-01     94.147419\n",
       "1957-09-01     39.889902\n",
       "1957-10-01     -9.108926\n",
       "1957-11-01    -66.293791\n",
       "1957-12-01    -49.323597\n",
       "1958-01-01    -52.077839\n",
       "1958-02-01    -73.405852\n",
       "1958-03-01    -26.404583\n",
       "1958-04-01    -43.572859\n",
       "1958-05-01    -39.448082\n",
       "1958-06-01     21.744314\n",
       "1958-07-01     80.146583\n",
       "1958-08-01     97.329454\n",
       "1958-09-01      1.513662\n",
       "1958-10-01    -47.089150\n",
       "1958-11-01   -108.125316\n",
       "1958-12-01    -89.012377\n",
       "1959-01-01    -69.205584\n",
       "1959-02-01    -85.352235\n",
       "1959-03-01    -22.150992\n",
       "1959-04-01    -36.790851\n",
       "1959-05-01    -22.336832\n",
       "1959-06-01     25.208234\n",
       "1959-07-01    101.898354\n",
       "1959-08-01    114.088602\n",
       "1959-09-01     18.359137\n",
       "1959-10-01    -44.674536\n",
       "1959-11-01    -97.415317\n",
       "1959-12-01    -59.580373\n",
       "1960-01-01    -48.479628\n",
       "1960-02-01    -74.694236\n",
       "1960-03-01    -49.229491\n",
       "1960-04-01    -12.904904\n",
       "1960-05-01     -8.612091\n",
       "1960-06-01     52.175282\n",
       "1960-07-01    138.327772\n",
       "1960-08-01    122.116013\n",
       "1960-09-01     20.815890\n",
       "1960-10-01    -32.432791\n",
       "1960-11-01   -108.930080\n",
       "1960-12-01    -70.159832\n",
       "dtype: float64"
      ]
     },
     "execution_count": 73,
     "metadata": {},
     "output_type": "execute_result"
    }
   ],
   "source": [
    "residuals"
   ]
  },
  {
   "cell_type": "code",
   "execution_count": 77,
   "id": "9e4d1a6c",
   "metadata": {},
   "outputs": [
    {
     "data": {
      "text/plain": [
       "<AxesSubplot:ylabel='Density'>"
      ]
     },
     "execution_count": 77,
     "metadata": {},
     "output_type": "execute_result"
    },
    {
     "data": {
      "image/png": "[encoded data removed]",
      "text/plain": [
       "<Figure size 864x360 with 1 Axes>"
      ]
     },
     "metadata": {
      "needs_background": "light"
     },
     "output_type": "display_data"
    }
   ],
   "source": [
    "model.resid.plot(kind='kde', figsize=(12,5))"
   ]
  },
  {
   "cell_type": "code",
   "execution_count": 78,
   "id": "74935361",
   "metadata": {},
   "outputs": [
    {
     "name": "stderr",
     "output_type": "stream",
     "text": [
      "/tmp/ipykernel_3795/2400886956.py:2: SettingWithCopyWarning: \n",
      "A value is trying to be set on a copy of a slice from a DataFrame.\n",
      "Try using .loc[row_indexer,col_indexer] = value instead\n",
      "\n",
      "See the caveats in the documentation: https://pandas.pydata.org/pandas-docs/stable/user_guide/indexing.html#returning-a-view-versus-a-copy\n",
      "  test_data['predicted_value'] = pred\n"
     ]
    }
   ],
   "source": [
    "# Creating a new column of predicted values\n",
    "test_data['predicted_value'] = pred"
   ]
  },
  {
   "cell_type": "code",
   "execution_count": 79,
   "id": "223d3032",
   "metadata": {},
   "outputs": [
    {
     "data": {
      "text/plain": [
       "<AxesSubplot:xlabel='Month'>"
      ]
     },
     "execution_count": 79,
     "metadata": {},
     "output_type": "execute_result"
    },
    {
     "data": {
      "image/png": "[encoded data removed]",
      "text/plain": [
       "<Figure size 864x360 with 1 Axes>"
      ]
     },
     "metadata": {
      "needs_background": "light"
     },
     "output_type": "display_data"
    }
   ],
   "source": [
    "test_data[['#Passengers', 'predicted_value']].plot(figsize=(12,5))"
   ]
  },
  {
   "cell_type": "markdown",
   "id": "ba092bf2",
   "metadata": {},
   "source": [
    "As our data is seasonal data, ARIMA performed poorly, so let's fit the dtaa with SARIMA model"
   ]
  },
  {
   "cell_type": "code",
   "execution_count": 80,
   "id": "e5482328",
   "metadata": {},
   "outputs": [],
   "source": [
    "from statsmodels.tsa.statespace.sarimax import SARIMAX"
   ]
  },
  {
   "cell_type": "code",
   "execution_count": 100,
   "id": "8f82b822",
   "metadata": {},
   "outputs": [
    {
     "name": "stderr",
     "output_type": "stream",
     "text": [
      "/home/sushmita/anaconda3/envs/tfEnv/lib/python3.10/site-packages/statsmodels/graphics/tsaplots.py:348: FutureWarning: The default method 'yw' can produce PACF values outside of the [-1,1] interval. After 0.13, the default will change tounadjusted Yule-Walker ('ywm'). You can use this method now by setting method='ywm'.\n",
      "  warnings.warn(\n"
     ]
    },
    {
     "data": {
      "image/png": "[encoded data removed]",
      "text/plain": [
       "<Figure size 432x288 with 1 Axes>"
      ]
     },
     "metadata": {
      "needs_background": "light"
     },
     "output_type": "display_data"
    },
    {
     "data": {
      "image/png": "[encoded data removed]",
      "text/plain": [
       "<Figure size 432x288 with 1 Axes>"
      ]
     },
     "metadata": {
      "needs_background": "light"
     },
     "output_type": "display_data"
    }
   ],
   "source": [
    "acf12 = plot_acf(df[\"Passengers 12 Difference\"].dropna())\n",
    "pacf12 = plot_pacf(df[\"Passengers 12 Difference\"].dropna())"
   ]
  },
  {
   "cell_type": "markdown",
   "id": "c36b049d",
   "metadata": {},
   "source": [
    "Observing autocorrelation plot, we can take q value = 5 and from partial autocorreltaiton plot, we can take p value = 2"
   ]
  },
  {
   "cell_type": "code",
   "execution_count": 101,
   "id": "373e76df",
   "metadata": {},
   "outputs": [
    {
     "name": "stderr",
     "output_type": "stream",
     "text": [
      "/home/sushmita/anaconda3/envs/tfEnv/lib/python3.10/site-packages/statsmodels/tsa/base/tsa_model.py:471: ValueWarning: No frequency information was provided, so inferred frequency MS will be used.\n",
      "  self._init_dates(dates, freq)\n",
      "/home/sushmita/anaconda3/envs/tfEnv/lib/python3.10/site-packages/statsmodels/tsa/base/tsa_model.py:471: ValueWarning: No frequency information was provided, so inferred frequency MS will be used.\n",
      "  self._init_dates(dates, freq)\n"
     ]
    }
   ],
   "source": [
    "sarimax_model = SARIMAX(train_data['#Passengers'], order=(2, 0, 5), seasonal_order=(0,1,0,12))"
   ]
  },
  {
   "cell_type": "code",
   "execution_count": 102,
   "id": "f7108e39",
   "metadata": {},
   "outputs": [
    {
     "name": "stderr",
     "output_type": "stream",
     "text": [
      " This problem is unconstrained.\n"
     ]
    },
    {
     "name": "stdout",
     "output_type": "stream",
     "text": [
      "RUNNING THE L-BFGS-B CODE\n",
      "\n",
      "           * * *\n",
      "\n",
      "Machine precision = 2.220D-16\n",
      " N =            8     M =           10\n",
      "\n",
      "At X0         0 variables are exactly at the bounds\n",
      "\n",
      "At iterate    0    f=  3.18183D+00    |proj g|=  3.68354D-02\n",
      "\n",
      "At iterate    5    f=  3.17618D+00    |proj g|=  1.91560D-02\n",
      "\n",
      "At iterate   10    f=  3.17380D+00    |proj g|=  3.11290D-03\n",
      "\n",
      "At iterate   15    f=  3.17305D+00    |proj g|=  1.42250D-03\n",
      "\n",
      "At iterate   20    f=  3.17300D+00    |proj g|=  2.86141D-03\n",
      "\n",
      "At iterate   25    f=  3.17222D+00    |proj g|=  1.11570D-02\n",
      "\n",
      "At iterate   30    f=  3.17065D+00    |proj g|=  9.79228D-03\n",
      "\n",
      "At iterate   35    f=  3.17045D+00    |proj g|=  2.40416D-04\n",
      "\n",
      "At iterate   40    f=  3.17045D+00    |proj g|=  2.17044D-05\n",
      "\n",
      "           * * *\n",
      "\n",
      "Tit   = total number of iterations\n",
      "Tnf   = total number of function evaluations\n",
      "Tnint = total number of segments explored during Cauchy searches\n",
      "Skip  = number of BFGS updates skipped\n",
      "Nact  = number of active bounds at final generalized Cauchy point\n",
      "Projg = norm of the final projected gradient\n",
      "F     = final function value\n",
      "\n",
      "           * * *\n",
      "\n",
      "   N    Tit     Tnf  Tnint  Skip  Nact     Projg        F\n",
      "    8     41     45      1     0     0   1.034D-05   3.170D+00\n",
      "  F =   3.1704538587510509     \n",
      "\n",
      "CONVERGENCE: REL_REDUCTION_OF_F_<=_FACTR*EPSMCH             \n"
     ]
    }
   ],
   "source": [
    "sarimax_fitted_model = sarimax_model.fit()"
   ]
  },
  {
   "cell_type": "code",
   "execution_count": 103,
   "id": "bd9624b6",
   "metadata": {},
   "outputs": [
    {
     "data": {
      "text/html": [
       "<table class=\"simpletable\">\n",
       "<caption>SARIMAX Results</caption>\n",
       "<tr>\n",
       "  <th>Dep. Variable:</th>             <td>#Passengers</td>           <th>  No. Observations:  </th>    <td>84</td>   \n",
       "</tr>\n",
       "<tr>\n",
       "  <th>Model:</th>           <td>SARIMAX(2, 0, 5)x(0, 1, [], 12)</td> <th>  Log Likelihood     </th> <td>-266.318</td>\n",
       "</tr>\n",
       "<tr>\n",
       "  <th>Date:</th>                   <td>Sat, 13 Aug 2022</td>         <th>  AIC                </th>  <td>548.636</td>\n",
       "</tr>\n",
       "<tr>\n",
       "  <th>Time:</th>                       <td>17:13:25</td>             <th>  BIC                </th>  <td>566.850</td>\n",
       "</tr>\n",
       "<tr>\n",
       "  <th>Sample:</th>                    <td>01-01-1949</td>            <th>  HQIC               </th>  <td>555.887</td>\n",
       "</tr>\n",
       "<tr>\n",
       "  <th></th>                          <td>- 12-01-1955</td>           <th>                     </th>     <td> </td>   \n",
       "</tr>\n",
       "<tr>\n",
       "  <th>Covariance Type:</th>               <td>opg</td>               <th>                     </th>     <td> </td>   \n",
       "</tr>\n",
       "</table>\n",
       "<table class=\"simpletable\">\n",
       "<tr>\n",
       "     <td></td>       <th>coef</th>     <th>std err</th>      <th>z</th>      <th>P>|z|</th>  <th>[0.025</th>    <th>0.975]</th>  \n",
       "</tr>\n",
       "<tr>\n",
       "  <th>ar.L1</th>  <td>    1.3148</td> <td>    1.447</td> <td>    0.909</td> <td> 0.363</td> <td>   -1.521</td> <td>    4.150</td>\n",
       "</tr>\n",
       "<tr>\n",
       "  <th>ar.L2</th>  <td>   -0.3310</td> <td>    1.423</td> <td>   -0.233</td> <td> 0.816</td> <td>   -3.121</td> <td>    2.459</td>\n",
       "</tr>\n",
       "<tr>\n",
       "  <th>ma.L1</th>  <td>   -0.5814</td> <td>    1.436</td> <td>   -0.405</td> <td> 0.685</td> <td>   -3.395</td> <td>    2.232</td>\n",
       "</tr>\n",
       "<tr>\n",
       "  <th>ma.L2</th>  <td>    0.1519</td> <td>    0.425</td> <td>    0.358</td> <td> 0.721</td> <td>   -0.681</td> <td>    0.985</td>\n",
       "</tr>\n",
       "<tr>\n",
       "  <th>ma.L3</th>  <td>   -0.2934</td> <td>    0.221</td> <td>   -1.325</td> <td> 0.185</td> <td>   -0.727</td> <td>    0.141</td>\n",
       "</tr>\n",
       "<tr>\n",
       "  <th>ma.L4</th>  <td>    0.1246</td> <td>    0.411</td> <td>    0.303</td> <td> 0.762</td> <td>   -0.681</td> <td>    0.930</td>\n",
       "</tr>\n",
       "<tr>\n",
       "  <th>ma.L5</th>  <td>    0.0729</td> <td>    0.174</td> <td>    0.419</td> <td> 0.675</td> <td>   -0.268</td> <td>    0.413</td>\n",
       "</tr>\n",
       "<tr>\n",
       "  <th>sigma2</th> <td>   92.1028</td> <td>   17.259</td> <td>    5.337</td> <td> 0.000</td> <td>   58.276</td> <td>  125.930</td>\n",
       "</tr>\n",
       "</table>\n",
       "<table class=\"simpletable\">\n",
       "<tr>\n",
       "  <th>Ljung-Box (L1) (Q):</th>     <td>0.03</td> <th>  Jarque-Bera (JB):  </th> <td>2.52</td>\n",
       "</tr>\n",
       "<tr>\n",
       "  <th>Prob(Q):</th>                <td>0.87</td> <th>  Prob(JB):          </th> <td>0.28</td>\n",
       "</tr>\n",
       "<tr>\n",
       "  <th>Heteroskedasticity (H):</th> <td>2.13</td> <th>  Skew:              </th> <td>0.45</td>\n",
       "</tr>\n",
       "<tr>\n",
       "  <th>Prob(H) (two-sided):</th>    <td>0.07</td> <th>  Kurtosis:          </th> <td>2.85</td>\n",
       "</tr>\n",
       "</table><br/><br/>Warnings:<br/>[1] Covariance matrix calculated using the outer product of gradients (complex-step)."
      ],
      "text/plain": [
       "<class 'statsmodels.iolib.summary.Summary'>\n",
       "\"\"\"\n",
       "                                      SARIMAX Results                                      \n",
       "===========================================================================================\n",
       "Dep. Variable:                         #Passengers   No. Observations:                   84\n",
       "Model:             SARIMAX(2, 0, 5)x(0, 1, [], 12)   Log Likelihood                -266.318\n",
       "Date:                             Sat, 13 Aug 2022   AIC                            548.636\n",
       "Time:                                     17:13:25   BIC                            566.850\n",
       "Sample:                                 01-01-1949   HQIC                           555.887\n",
       "                                      - 12-01-1955                                         \n",
       "Covariance Type:                               opg                                         \n",
       "==============================================================================\n",
       "                 coef    std err          z      P>|z|      [0.025      0.975]\n",
       "------------------------------------------------------------------------------\n",
       "ar.L1          1.3148      1.447      0.909      0.363      -1.521       4.150\n",
       "ar.L2         -0.3310      1.423     -0.233      0.816      -3.121       2.459\n",
       "ma.L1         -0.5814      1.436     -0.405      0.685      -3.395       2.232\n",
       "ma.L2          0.1519      0.425      0.358      0.721      -0.681       0.985\n",
       "ma.L3         -0.2934      0.221     -1.325      0.185      -0.727       0.141\n",
       "ma.L4          0.1246      0.411      0.303      0.762      -0.681       0.930\n",
       "ma.L5          0.0729      0.174      0.419      0.675      -0.268       0.413\n",
       "sigma2        92.1028     17.259      5.337      0.000      58.276     125.930\n",
       "===================================================================================\n",
       "Ljung-Box (L1) (Q):                   0.03   Jarque-Bera (JB):                 2.52\n",
       "Prob(Q):                              0.87   Prob(JB):                         0.28\n",
       "Heteroskedasticity (H):               2.13   Skew:                             0.45\n",
       "Prob(H) (two-sided):                  0.07   Kurtosis:                         2.85\n",
       "===================================================================================\n",
       "\n",
       "Warnings:\n",
       "[1] Covariance matrix calculated using the outer product of gradients (complex-step).\n",
       "\"\"\""
      ]
     },
     "execution_count": 103,
     "metadata": {},
     "output_type": "execute_result"
    }
   ],
   "source": [
    "sarimax_fitted_model.summary()"
   ]
  },
  {
   "cell_type": "code",
   "execution_count": 105,
   "id": "758d3c0e",
   "metadata": {},
   "outputs": [],
   "source": [
    "#date for which the prediction is to be made\n",
    "pred_start_date = test_data.index[0]\n",
    "pred_end_date = test_data.index[-1]"
   ]
  },
  {
   "cell_type": "code",
   "execution_count": 108,
   "id": "d705bced",
   "metadata": {},
   "outputs": [],
   "source": [
    "sarima_predicted = sarimax_fitted_model.predict(start=pred_start_date, end=pred_end_date)"
   ]
  },
  {
   "cell_type": "code",
   "execution_count": 109,
   "id": "e3aaca99",
   "metadata": {},
   "outputs": [],
   "source": [
    "# Again calculating residuals\n",
    "sarimax_residuals = test_data['#Passengers'] - sarima_predicted"
   ]
  },
  {
   "cell_type": "code",
   "execution_count": 113,
   "id": "f64dfb7b",
   "metadata": {},
   "outputs": [
    {
     "data": {
      "text/plain": [
       "<AxesSubplot:ylabel='Density'>"
      ]
     },
     "execution_count": 113,
     "metadata": {},
     "output_type": "execute_result"
    },
    {
     "data": {
      "image/png": "[encoded data removed]",
      "text/plain": [
       "<Figure size 864x360 with 1 Axes>"
      ]
     },
     "metadata": {
      "needs_background": "light"
     },
     "output_type": "display_data"
    }
   ],
   "source": [
    "sarimax_fitted_model.resid.plot(kind='kde', figsize=(12,5))"
   ]
  },
  {
   "cell_type": "code",
   "execution_count": 114,
   "id": "015e7058",
   "metadata": {},
   "outputs": [
    {
     "name": "stderr",
     "output_type": "stream",
     "text": [
      "/tmp/ipykernel_3795/2805857347.py:1: SettingWithCopyWarning: \n",
      "A value is trying to be set on a copy of a slice from a DataFrame.\n",
      "Try using .loc[row_indexer,col_indexer] = value instead\n",
      "\n",
      "See the caveats in the documentation: https://pandas.pydata.org/pandas-docs/stable/user_guide/indexing.html#returning-a-view-versus-a-copy\n",
      "  test_data['sarima_predicted'] = sarima_predicted\n"
     ]
    }
   ],
   "source": [
    "test_data['sarima_predicted'] = sarima_predicted"
   ]
  },
  {
   "cell_type": "code",
   "execution_count": 115,
   "id": "312a4ca4",
   "metadata": {},
   "outputs": [
    {
     "data": {
      "text/html": [
       "<div>\n",
       "<style scoped>\n",
       "    .dataframe tbody tr th:only-of-type {\n",
       "        vertical-align: middle;\n",
       "    }\n",
       "\n",
       "    .dataframe tbody tr th {\n",
       "        vertical-align: top;\n",
       "    }\n",
       "\n",
       "    .dataframe thead th {\n",
       "        text-align: right;\n",
       "    }\n",
       "</style>\n",
       "<table border=\"1\" class=\"dataframe\">\n",
       "  <thead>\n",
       "    <tr style=\"text-align: right;\">\n",
       "      <th></th>\n",
       "      <th>#Passengers</th>\n",
       "      <th>Passengers First Difference</th>\n",
       "      <th>Passengers Second Difference</th>\n",
       "      <th>Passengers 12 Difference</th>\n",
       "      <th>predicted_value</th>\n",
       "      <th>sarima_predicted</th>\n",
       "    </tr>\n",
       "    <tr>\n",
       "      <th>Month</th>\n",
       "      <th></th>\n",
       "      <th></th>\n",
       "      <th></th>\n",
       "      <th></th>\n",
       "      <th></th>\n",
       "      <th></th>\n",
       "    </tr>\n",
       "  </thead>\n",
       "  <tbody>\n",
       "    <tr>\n",
       "      <th>1956-01-01</th>\n",
       "      <td>284</td>\n",
       "      <td>6.0</td>\n",
       "      <td>-35.0</td>\n",
       "      <td>42.0</td>\n",
       "      <td>300.183612</td>\n",
       "      <td>287.156049</td>\n",
       "    </tr>\n",
       "    <tr>\n",
       "      <th>1956-02-01</th>\n",
       "      <td>277</td>\n",
       "      <td>-7.0</td>\n",
       "      <td>-13.0</td>\n",
       "      <td>44.0</td>\n",
       "      <td>309.478355</td>\n",
       "      <td>281.418152</td>\n",
       "    </tr>\n",
       "    <tr>\n",
       "      <th>1956-03-01</th>\n",
       "      <td>317</td>\n",
       "      <td>40.0</td>\n",
       "      <td>47.0</td>\n",
       "      <td>50.0</td>\n",
       "      <td>316.443015</td>\n",
       "      <td>310.582627</td>\n",
       "    </tr>\n",
       "    <tr>\n",
       "      <th>1956-04-01</th>\n",
       "      <td>313</td>\n",
       "      <td>-4.0</td>\n",
       "      <td>-44.0</td>\n",
       "      <td>44.0</td>\n",
       "      <td>307.827544</td>\n",
       "      <td>310.746078</td>\n",
       "    </tr>\n",
       "    <tr>\n",
       "      <th>1956-05-01</th>\n",
       "      <td>318</td>\n",
       "      <td>5.0</td>\n",
       "      <td>9.0</td>\n",
       "      <td>48.0</td>\n",
       "      <td>318.544234</td>\n",
       "      <td>311.287558</td>\n",
       "    </tr>\n",
       "  </tbody>\n",
       "</table>\n",
       "</div>"
      ],
      "text/plain": [
       "            #Passengers  Passengers First Difference  \\\n",
       "Month                                                  \n",
       "1956-01-01          284                          6.0   \n",
       "1956-02-01          277                         -7.0   \n",
       "1956-03-01          317                         40.0   \n",
       "1956-04-01          313                         -4.0   \n",
       "1956-05-01          318                          5.0   \n",
       "\n",
       "            Passengers Second Difference  Passengers 12 Difference  \\\n",
       "Month                                                                \n",
       "1956-01-01                         -35.0                      42.0   \n",
       "1956-02-01                         -13.0                      44.0   \n",
       "1956-03-01                          47.0                      50.0   \n",
       "1956-04-01                         -44.0                      44.0   \n",
       "1956-05-01                           9.0                      48.0   \n",
       "\n",
       "            predicted_value  sarima_predicted  \n",
       "Month                                          \n",
       "1956-01-01       300.183612        287.156049  \n",
       "1956-02-01       309.478355        281.418152  \n",
       "1956-03-01       316.443015        310.582627  \n",
       "1956-04-01       307.827544        310.746078  \n",
       "1956-05-01       318.544234        311.287558  "
      ]
     },
     "execution_count": 115,
     "metadata": {},
     "output_type": "execute_result"
    }
   ],
   "source": [
    "test_data.head()"
   ]
  },
  {
   "cell_type": "code",
   "execution_count": 116,
   "id": "19426514",
   "metadata": {},
   "outputs": [
    {
     "data": {
      "text/plain": [
       "<AxesSubplot:xlabel='Month'>"
      ]
     },
     "execution_count": 116,
     "metadata": {},
     "output_type": "execute_result"
    },
    {
     "data": {
      "image/png": "[encoded data removed]",
      "text/plain": [
       "<Figure size 864x360 with 1 Axes>"
      ]
     },
     "metadata": {
      "needs_background": "light"
     },
     "output_type": "display_data"
    }
   ],
   "source": [
    "test_data[['#Passengers', 'sarima_predicted']].plot(figsize=(12,5))"
   ]
  },
  {
   "cell_type": "code",
   "execution_count": 118,
   "id": "75c51746",
   "metadata": {},
   "outputs": [
    {
     "data": {
      "text/plain": [
       "<AxesSubplot:xlabel='Month'>"
      ]
     },
     "execution_count": 118,
     "metadata": {},
     "output_type": "execute_result"
    },
    {
     "data": {
      "image/png": "[encoded data removed]",
      "text/plain": [
       "<Figure size 864x360 with 1 Axes>"
      ]
     },
     "metadata": {
      "needs_background": "light"
     },
     "output_type": "display_data"
    }
   ],
   "source": [
    "test_data[['#Passengers', 'predicted_value', 'sarima_predicted']].plot(figsize=(12,5))"
   ]
  },
  {
   "cell_type": "markdown",
   "id": "02900631",
   "metadata": {},
   "source": [
    "### After conducting the above experimentation, we clearly see that ARIMA model does not perform well with seasonal data, but SARIMAX does."
   ]
  },
  {
   "cell_type": "code",
   "execution_count": null,
   "id": "a6b7d491",
   "metadata": {},
   "outputs": [],
   "source": []
  }
 ],
 "metadata": {
  "kernelspec": {
   "display_name": "Python 3 (ipykernel)",
   "language": "python",
   "name": "python3"
  },
  "language_info": {
   "codemirror_mode": {
    "name": "ipython",
    "version": 3
   },
   "file_extension": ".py",
   "mimetype": "text/x-python",
   "name": "python",
   "nbconvert_exporter": "python",
   "pygments_lexer": "ipython3",
   "version": "3.10.4"
  }
 },
 "nbformat": 4,
 "nbformat_minor": 5
}
